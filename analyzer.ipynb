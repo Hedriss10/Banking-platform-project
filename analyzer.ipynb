{
  "nbformat": 4,
  "nbformat_minor": 0,
  "metadata": {
    "colab": {
      "provenance": [],
      "mount_file_id": "1U0KvbB6zTamjCAYwjfMp3A_ae6QsjAMd",
      "authorship_tag": "ABX9TyP/yQZkSHZUqgfBkNcNJtxU",
      "include_colab_link": true
    },
    "kernelspec": {
      "name": "python3",
      "display_name": "Python 3"
    },
    "language_info": {
      "name": "python"
    }
  },
  "cells": [
    {
      "cell_type": "markdown",
      "metadata": {
        "id": "view-in-github",
        "colab_type": "text"
      },
      "source": [
        "<a href=\"https://colab.research.google.com/github/Hedriss10/Banking-platform-project/blob/main/analyzer.ipynb\" target=\"_parent\"><img src=\"https://colab.research.google.com/assets/colab-badge.svg\" alt=\"Open In Colab\"/></a>"
      ]
    },
    {
      "cell_type": "markdown",
      "source": [
        "## Importação de de ferramenta"
      ],
      "metadata": {
        "id": "B689fky5EdFi"
      }
    },
    {
      "cell_type": "code",
      "execution_count": 22,
      "metadata": {
        "id": "gsP-e9tfDdI9"
      },
      "outputs": [],
      "source": [
        "# import libs\n",
        "import pandas as pd\n",
        "import matplotlib.pyplot as plt\n",
        "\n",
        "import seaborn as sns\n",
        "import numpy as np\n",
        "import re\n",
        "import nltk\n",
        "import json\n",
        "import joblib\n",
        "\n",
        "from sklearn.preprocessing import MultiLabelBinarizer\n",
        "from sklearn.feature_extraction.text import TfidfVectorizer\n",
        "from sklearn.model_selection import train_test_split\n",
        "from nltk.corpus import stopwords\n",
        "from nltk.tokenize import word_tokenize\n",
        "from wordcloud import WordCloud\n",
        "from collections import Counter\n",
        "from transformers import BertTokenizer\n"
      ]
    },
    {
      "cell_type": "code",
      "source": [
        "## install stopwords\n",
        "nltk.download('stopwords')\n",
        "nltk.download('punkt')"
      ],
      "metadata": {
        "id": "YMtaYT0uEl9b"
      },
      "execution_count": null,
      "outputs": []
    },
    {
      "cell_type": "markdown",
      "source": [
        "##**Carregamento do dataframe**\n",
        "\n",
        "\n",
        "**Descrição:**\n",
        "Carregamento do dataframe vindo do google colab, então se você precisa dos dados para execução, pode realizar o donwload na fonte:\n",
        "\n",
        "Fonte: [Dataframe](https://www.cs.cmu.edu/~ark/personas/)"
      ],
      "metadata": {
        "id": "ki6OhhopFV1D"
      }
    },
    {
      "cell_type": "code",
      "source": [],
      "metadata": {
        "id": "s0bFfA2DFccg"
      },
      "execution_count": 18,
      "outputs": []
    }
  ]
}